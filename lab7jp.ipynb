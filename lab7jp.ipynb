{
 "cells": [
  {
   "cell_type": "code",
   "execution_count": 12,
   "metadata": {},
   "outputs": [],
   "source": [
    "import mysql.connector"
   ]
  },
  {
   "cell_type": "code",
   "execution_count": 13,
   "metadata": {},
   "outputs": [
    {
     "name": "stdout",
     "output_type": "stream",
     "text": [
      "('dept_total_salary',)\n",
      "('faculty',)\n",
      "('form',)\n",
      "('instructor',)\n",
      "('teaches',)\n",
      "('teaches2',)\n"
     ]
    }
   ],
   "source": [
    "conn = mysql.connector.connect(host='localhost',\n",
    "                                       database='dbmslab',\n",
    "                                       user='root',\n",
    "                                       password='Geeky@Zain98')\n",
    "cursor=conn.cursor(buffered=True)\n",
    "cursor.execute('SHOW tables')\n",
    "for x in cursor:\n",
    "    print(x)"
   ]
  },
  {
   "cell_type": "code",
   "execution_count": 14,
   "metadata": {},
   "outputs": [
    {
     "name": "stdout",
     "output_type": "stream",
     "text": [
      "('ID', b'int', 'NO', 'PRI', None, '')\n",
      "('name', b'varchar(100)', 'NO', '', None, '')\n",
      "('dept_name', b'varchar(100)', 'NO', '', None, '')\n",
      "('salary', b'double', 'YES', '', None, '')\n"
     ]
    }
   ],
   "source": [
    "cursor.execute(\"DESCRIBE instructor\")\n",
    "records=cursor.fetchall()\n",
    "for x in records:\n",
    "    print(x)"
   ]
  },
  {
   "cell_type": "code",
   "execution_count": 16,
   "metadata": {},
   "outputs": [],
   "source": [
    "cursor.execute(\"create view faculty as select ID ,name,dept_name from instructor\")"
   ]
  },
  {
   "cell_type": "code",
   "execution_count": 17,
   "metadata": {},
   "outputs": [],
   "source": [
    "cursor.execute(\"create view dept_total_salary as select dept_name ,sum(salary) as 'Total' from instructor group by dept_name\")"
   ]
  },
  {
   "cell_type": "code",
   "execution_count": 18,
   "metadata": {},
   "outputs": [],
   "source": [
    "cursor.execute(\"create role student\")"
   ]
  },
  {
   "cell_type": "code",
   "execution_count": 19,
   "metadata": {},
   "outputs": [],
   "source": [
    "cursor.execute(\"grant select on faculty to student\")"
   ]
  },
  {
   "cell_type": "code",
   "execution_count": 20,
   "metadata": {},
   "outputs": [],
   "source": [
    "cursor.execute(\"CREATE USER 'nuser@localhost' IDENTIFIED BY 'Geeky@Zain98'\")"
   ]
  },
  {
   "cell_type": "code",
   "execution_count": 21,
   "metadata": {},
   "outputs": [],
   "source": [
    "cursor.execute(\"grant student to nuser\")"
   ]
  },
  {
   "cell_type": "code",
   "execution_count": 22,
   "metadata": {},
   "outputs": [],
   "source": [
    "cursor.execute(\"REVOKE ALL PRIVILEGES, GRANT OPTION FROM 'nuser'@'localhost'\")"
   ]
  },
  {
   "cell_type": "code",
   "execution_count": 23,
   "metadata": {},
   "outputs": [],
   "source": [
    "cursor.execute(\"drop role student\")"
   ]
  },
  {
   "cell_type": "code",
   "execution_count": 24,
   "metadata": {},
   "outputs": [],
   "source": [
    "cursor.execute(\"grant select on faculty to nuser@localhost\")"
   ]
  },
  {
   "cell_type": "code",
   "execution_count": 25,
   "metadata": {},
   "outputs": [],
   "source": [
    "cursor.execute(\"CREATE TABLE teaches2 (ID INT NOT NULL, Course_id VARCHAR(10) NOT NULL,sec_id VARCHAR(10) NOT NULL,semester ENUM('fall', 'winter', 'spring', 'summer') NOT NULL,year INT NOT NULL,PRIMARY KEY (ID))\")"
   ]
  },
  {
   "cell_type": "code",
   "execution_count": 26,
   "metadata": {},
   "outputs": [],
   "source": [
    "cursor.execute(\"SET @start_time = NOW();SELECT * FROM teaches WHERE ID = 83821;SELECT TIMEDIFF(NOW(), @start_time);\")\n"
   ]
  },
  {
   "cell_type": "code",
   "execution_count": 27,
   "metadata": {},
   "outputs": [],
   "source": [
    "cursor.execute(\"CREATE INDEX idx_teaches_ID ON teaches (ID)\")"
   ]
  },
  {
   "cell_type": "code",
   "execution_count": 28,
   "metadata": {},
   "outputs": [],
   "source": [
    "cursor.execute(\"SET @start_time = NOW();SELECT * FROM teaches WHERE ID = 83821;SELECT TIMEDIFF(NOW(), @start_time);\")"
   ]
  },
  {
   "cell_type": "code",
   "execution_count": 29,
   "metadata": {},
   "outputs": [],
   "source": [
    "cursor.execute(\"ALTER TABLE teaches DROP INDEX idx_teaches_ID;\")"
   ]
  },
  {
   "cell_type": "markdown",
   "metadata": {},
   "source": [
    "### Small Project\n",
    "#### Create a python program/application which asks users to fill up a form (say name, address, contact number etc) and inserts those values into a corresponding table in a database. Use git to manage the code."
   ]
  },
  {
   "cell_type": "code",
   "execution_count": 30,
   "metadata": {},
   "outputs": [],
   "source": [
    "from tkinter import *\n",
    "root = Tk()\n",
    "root.geometry(\"500x300\")\n",
    "root.title(\"Form\")\n",
    "Label(root, text=\"Name\").grid(row=0, column=0)\n",
    "name = Entry(root)\n",
    "name.grid(row=0, column=1)\n",
    "\n",
    "Label(root, text=\"Address\").grid(row=1, column=0)\n",
    "address = Entry(root)\n",
    "address.grid(row=1, column=1)\n",
    "\n",
    "Label(root, text=\"Contact Number\").grid(row=2, column=0)\n",
    "contact_number = Entry(root)\n",
    "contact_number.grid(row=2, column=1)\n",
    "\n",
    "def insert_data():\n",
    "    conn = mysql.connector.connect(host='localhost',\n",
    "                                       database='dbmslab',\n",
    "                                       user='root',\n",
    "                                       password='Geeky@Zain98')\n",
    "    cursor=conn.cursor(buffered=True)\n",
    "\n",
    "    # Create a table to store the form data\n",
    "    cursor.execute(\"CREATE TABLE form (name VARCHAR(255), address VARCHAR(255), contact_number VARCHAR(255))\")\n",
    "\n",
    "    # Insert the form data into the table\n",
    "    sql = \"INSERT INTO form (name, address, contact_number) VALUES (%s, %s, %s)\"\n",
    "    val = (name.get(), address.get(), contact_number.get())\n",
    "    cursor.execute(sql, val)\n",
    "\n",
    "   \n",
    "    conn.commit()\n",
    "    conn.close()\n",
    "\n",
    "\n",
    "Button(root, text=\"Submit\", command=insert_data).grid(row=3, column=1)\n",
    "Button(root, text=\"Close\", command=root.destroy).grid(row=5, column=1)\n",
    "\n",
    "root.mainloop()"
   ]
  }
 ],
 "metadata": {
  "kernelspec": {
   "display_name": "Python 3 (ipykernel)",
   "language": "python",
   "name": "python3"
  },
  "language_info": {
   "codemirror_mode": {
    "name": "ipython",
    "version": 3
   },
   "file_extension": ".py",
   "mimetype": "text/x-python",
   "name": "python",
   "nbconvert_exporter": "python",
   "pygments_lexer": "ipython3",
   "version": "3.9.12"
  },
  "vscode": {
   "interpreter": {
    "hash": "ddbb2ec13d7e729cd148f4a0a6b99f05ffd7e5a0d223f206d81bdfd409ee773b"
   }
  }
 },
 "nbformat": 4,
 "nbformat_minor": 2
}
