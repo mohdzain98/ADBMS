{
 "cells": [
  {
   "cell_type": "code",
   "execution_count": 1,
   "metadata": {},
   "outputs": [],
   "source": [
    "import mysql.connector"
   ]
  },
  {
   "cell_type": "code",
   "execution_count": 2,
   "metadata": {},
   "outputs": [
    {
     "name": "stdout",
     "output_type": "stream",
     "text": [
      "('customer',)\n",
      "('dept_total_salary',)\n",
      "('faculty',)\n",
      "('form',)\n",
      "('instructor',)\n",
      "('movies',)\n",
      "('teaches',)\n",
      "('teaches2',)\n",
      "('theater',)\n"
     ]
    }
   ],
   "source": [
    "conn = mysql.connector.connect(host='localhost',\n",
    "                                       database='dbmslab',\n",
    "                                       user='root',\n",
    "                                       password='Geeky@Zain98')\n",
    "cursor=conn.cursor(buffered=True)\n",
    "cursor.execute('SHOW tables')\n",
    "for x in cursor:\n",
    "    print(x)"
   ]
  },
  {
   "cell_type": "code",
   "execution_count": 3,
   "metadata": {},
   "outputs": [
    {
     "name": "stdout",
     "output_type": "stream",
     "text": [
      "('movie_id', b'int', 'NO', '', None, '')\n",
      "('movie_name', b'varchar(45)', 'YES', '', None, '')\n",
      "('price', b'int', 'YES', '', None, '')\n"
     ]
    }
   ],
   "source": [
    "cursor.execute(\"describe movies\")\n",
    "records=cursor.fetchall()\n",
    "for x in records:\n",
    "    print(x)"
   ]
  },
  {
   "attachments": {},
   "cell_type": "markdown",
   "metadata": {},
   "source": [
    "Create a movie ticket booking system on python which is connected to a database. The users should\n",
    "be able to choose the movie, theater, screen and city of their choice to watch the movie. Use python\n",
    "for your work and use object oriented features of python like classes, inheritance, etc. Then input\n",
    "these values into a connected database. Additionally use git for version control."
   ]
  },
  {
   "cell_type": "code",
   "execution_count": 95,
   "metadata": {},
   "outputs": [],
   "source": [
    "class Movie:\n",
    "    def __init__(self, movie_id,movie_name, price):\n",
    "        self.movie_id=movie_id\n",
    "        self.movie_name = movie_name\n",
    "        self.price = price\n",
    "        \n",
    "    def printname(self):\n",
    "        print('----------------------------------')\n",
    "        print('movie: ',self.movie_name)\n",
    "        print('price: ',self.price)\n",
    "        print('----------------------------------')\n",
    "\n",
    "\n",
    "class Theatre(Movie):\n",
    "    def theater(movieid):\n",
    "        query=\"select theater_name,seats,screen,city from theater where movie_id=%s\"\n",
    "        cursor.execute(query,(movieid,))\n",
    "        records=cursor.fetchall()\n",
    "        print('theater','seats','screen','city')\n",
    "        for x in records:\n",
    "            print(x)\n",
    "\n",
    "\n"
   ]
  },
  {
   "cell_type": "code",
   "execution_count": 101,
   "metadata": {},
   "outputs": [
    {
     "name": "stdout",
     "output_type": "stream",
     "text": [
      "----------------------------------\n",
      "movie:  John wick\n",
      "price:  250\n",
      "----------------------------------\n",
      "theater seats screen city\n",
      "('Pacicfic mall', 50, 2, 'Dhanbad')\n",
      "('Prabhatam Mall', 40, 1, 'Dhanbad')\n",
      "('Ozone Mall', 30, 3, 'Dhanbad')\n",
      "----------------------------------\n",
      "movie:  Avatar\n",
      "price:  240\n",
      "----------------------------------\n",
      "theater seats screen city\n",
      "('Pacicfic mall', 50, 2, 'Dhanbad')\n",
      "('Prabhatam Mall', 40, 1, 'Dhanbad')\n",
      "----------------------------------\n",
      "movie:  Bhola\n",
      "price:  200\n",
      "----------------------------------\n",
      "theater seats screen city\n",
      "('Ozone Mall', 30, 3, 'Dhanbad')\n",
      "('Prabhatam Mall', 40, 1, 'Dhanbad')\n",
      "====================================\n",
      "data entered successfully\n",
      "booking details\n",
      "Index    value\n",
      "-------  -------\n",
      "Movie    bhola\n",
      "theater  pacific\n",
      "screen   3\n",
      "city     dhanbad\n"
     ]
    }
   ],
   "source": [
    "from tabulate import tabulate\n",
    "cursor.execute(\"select * from movies\")\n",
    "records=cursor.fetchall()\n",
    "for x in records:\n",
    "    movies=Theatre(x[0],x[1],x[2])\n",
    "    movies.printname()\n",
    "    Theatre.theater(x[0])\n",
    "\n",
    "mname=input('enter movie name')\n",
    "tname=input('enter theater name')\n",
    "screen=input('enter screen number')\n",
    "city=input('select city')\n",
    "query=\"insert into booking values(%s,%s,%s,%s)\"\n",
    "val=(mname,tname,screen,city)\n",
    "cursor.execute(query,val)\n",
    "print('====================================')\n",
    "print(\"data entered successfully\")\n",
    "print(\"booking details\")\n",
    "print(tabulate([['Movie',mname],['theater',tname],['screen',screen],['city',city]],headers=['Index','value']))"
   ]
  },
  {
   "cell_type": "code",
   "execution_count": null,
   "metadata": {},
   "outputs": [],
   "source": []
  }
 ],
 "metadata": {
  "kernelspec": {
   "display_name": "Python 3",
   "language": "python",
   "name": "python3"
  },
  "language_info": {
   "codemirror_mode": {
    "name": "ipython",
    "version": 3
   },
   "file_extension": ".py",
   "mimetype": "text/x-python",
   "name": "python",
   "nbconvert_exporter": "python",
   "pygments_lexer": "ipython3",
   "version": "3.10.7"
  },
  "orig_nbformat": 4
 },
 "nbformat": 4,
 "nbformat_minor": 2
}
