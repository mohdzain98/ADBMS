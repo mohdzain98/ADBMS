{
 "cells": [
  {
   "cell_type": "code",
   "execution_count": 1,
   "metadata": {},
   "outputs": [],
   "source": [
    "import mysql.connector"
   ]
  },
  {
   "cell_type": "code",
   "execution_count": 2,
   "metadata": {},
   "outputs": [
    {
     "name": "stdout",
     "output_type": "stream",
     "text": [
      "('dept_total_salary',)\n",
      "('faculty',)\n",
      "('form',)\n",
      "('instructor',)\n",
      "('movies',)\n",
      "('teaches',)\n",
      "('teaches2',)\n",
      "('theater',)\n"
     ]
    }
   ],
   "source": [
    "conn = mysql.connector.connect(host='localhost',\n",
    "                                       database='dbmslab',\n",
    "                                       user='root',\n",
    "                                       password='Geeky@Zain98')\n",
    "cursor=conn.cursor(buffered=True)\n",
    "cursor.execute('SHOW tables')\n",
    "for x in cursor:\n",
    "    print(x)"
   ]
  },
  {
   "cell_type": "code",
   "execution_count": 3,
   "metadata": {},
   "outputs": [
    {
     "name": "stdout",
     "output_type": "stream",
     "text": [
      "('movie_id', b'int', 'NO', '', None, '')\n",
      "('movie_name', b'varchar(45)', 'YES', '', None, '')\n",
      "('price', b'int', 'YES', '', None, '')\n"
     ]
    }
   ],
   "source": [
    "cursor.execute(\"describe movies\")\n",
    "records=cursor.fetchall()\n",
    "for x in records:\n",
    "    print(x)"
   ]
  },
  {
   "cell_type": "code",
   "execution_count": 28,
   "metadata": {},
   "outputs": [],
   "source": [
    "class movie:\n",
    "    def __init__(self,movie,price):\n",
    "        self.movies=movie\n",
    "        self.prices=price\n",
    "\n",
    "    def movies(self):\n",
    "        movies=[]\n",
    "        price=[]\n",
    "        query=\"select * from movies\"\n",
    "        cursor.execute(query)\n",
    "        records=cursor.fetchall()\n",
    "        for x in records:\n",
    "            movies.append(x[1])\n",
    "            price.append(x[2])\n",
    "        \n",
    "        return movies,price\n",
    "    \n",
    "\n",
    " #inheriting parent class\n",
    "\n",
    "\n",
    "\n",
    "\n"
   ]
  },
  {
   "cell_type": "code",
   "execution_count": null,
   "metadata": {},
   "outputs": [],
   "source": []
  }
 ],
 "metadata": {
  "kernelspec": {
   "display_name": "Python 3",
   "language": "python",
   "name": "python3"
  },
  "language_info": {
   "codemirror_mode": {
    "name": "ipython",
    "version": 3
   },
   "file_extension": ".py",
   "mimetype": "text/x-python",
   "name": "python",
   "nbconvert_exporter": "python",
   "pygments_lexer": "ipython3",
   "version": "3.10.7"
  },
  "orig_nbformat": 4
 },
 "nbformat": 4,
 "nbformat_minor": 2
}
