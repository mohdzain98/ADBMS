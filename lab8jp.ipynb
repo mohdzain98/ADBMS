{
 "cells": [
  {
   "cell_type": "code",
   "execution_count": 10,
   "metadata": {},
   "outputs": [],
   "source": [
    "import mysql.connector"
   ]
  },
  {
   "cell_type": "code",
   "execution_count": 11,
   "metadata": {},
   "outputs": [
    {
     "name": "stdout",
     "output_type": "stream",
     "text": [
      "('dept_total_salary',)\n",
      "('faculty',)\n",
      "('form',)\n",
      "('instructor',)\n",
      "('teaches',)\n",
      "('teaches2',)\n"
     ]
    }
   ],
   "source": [
    "conn = mysql.connector.connect(host='localhost',\n",
    "                                       database='dbmslab',\n",
    "                                       user='root',\n",
    "                                       password='Geeky@Zain98')\n",
    "cursor=conn.cursor(buffered=True)\n",
    "cursor.execute('SHOW tables')\n",
    "for x in cursor:\n",
    "    print(x)"
   ]
  },
  {
   "cell_type": "code",
   "execution_count": 12,
   "metadata": {},
   "outputs": [
    {
     "name": "stdout",
     "output_type": "stream",
     "text": [
      "('ID', b'int', 'NO', 'PRI', None, '')\n",
      "('name', b'varchar(100)', 'NO', '', None, '')\n",
      "('dept_name', b'varchar(100)', 'NO', '', None, '')\n",
      "('salary', b'double', 'YES', '', None, '')\n",
      "('age', b'int', 'YES', '', None, '')\n"
     ]
    }
   ],
   "source": [
    "cursor.execute(\"describe instructor\")\n",
    "records=cursor.fetchall()\n",
    "for x in records:\n",
    "    print(x)"
   ]
  },
  {
   "cell_type": "markdown",
   "metadata": {},
   "source": [
    "1. Given input as salary of three months (jan, feb, march),\n",
    "write a program that returns the total salary for quarter 1 (Q1)."
   ]
  },
  {
   "cell_type": "code",
   "execution_count": 13,
   "metadata": {},
   "outputs": [],
   "source": [
    "cursor.execute(\"SET GLOBAL log_bin_trust_function_creators = 1;\")\n",
    "#cursor.execute(\"CREATE FUNCTION QuarterSal(jan int,feb int,mar int) RETURNS int(10) BEGIN DECLARE result int(10); set result=jan+feb+mar; RETURN result; END; \")"
   ]
  },
  {
   "cell_type": "code",
   "execution_count": 14,
   "metadata": {},
   "outputs": [
    {
     "name": "stdout",
     "output_type": "stream",
     "text": [
      "enter the salary for respected months\n",
      "The total salary for Quarter 1 (6400,)\n"
     ]
    }
   ],
   "source": [
    "print(\"enter the salary for respected months\")\n",
    "jan=float(input('enter for january'))\n",
    "feb=float(input('enter for february'))\n",
    "mar=float(input('enter for March'))\n",
    "sql = \"Set @x=QuarterSal(%s, %s, %s)\"\n",
    "val = (jan, feb, mar)\n",
    "cursor.execute(sql, val)\n",
    "cursor.execute(\"select @x\")\n",
    "records=cursor.fetchall()\n",
    "for x in records:\n",
    "    print('The total salary for Quarter 1',x)\n"
   ]
  },
  {
   "cell_type": "markdown",
   "metadata": {},
   "source": [
    "Alter the existing instructor table and add a column of age and fill in the values in it."
   ]
  },
  {
   "cell_type": "code",
   "execution_count": 15,
   "metadata": {},
   "outputs": [],
   "source": [
    "#cursor.execute(\"ALTER table instructor Add age int(10)\")"
   ]
  },
  {
   "cell_type": "code",
   "execution_count": 16,
   "metadata": {},
   "outputs": [
    {
     "name": "stdout",
     "output_type": "stream",
     "text": [
      "[10101, 10211, 10212, 12121, 15151, 22222, 32343, 33456, 45565, 58583, 76543, 76766, 83821, 98345]\n",
      "(10101, 'Srinivasan', 'Comp. Sci.', 65000.0, 34)\n",
      "(10211, 'Smith', 'Biology', 66000.0, 35)\n",
      "(10212, 'Tom', 'Biology', None, 42)\n",
      "(12121, 'Wu', 'Finance', 90000.0, 38)\n",
      "(15151, 'Mozart', 'Music', 40000.0, 45)\n",
      "(22222, 'Einstein', 'Physics', 95000.0, 55)\n",
      "(32343, 'El Said', 'History', 60000.0, 48)\n",
      "(33456, 'Gold', 'Physics', 87000.0, 60)\n",
      "(45565, 'Katz', 'Comp. Sci.', 75000.0, 50)\n",
      "(58583, 'Califieri', 'History', 62000.0, 42)\n",
      "(76543, 'Singh', 'Finance', 80000.0, 35)\n",
      "(76766, 'Crick', 'Biology', 72000.0, 38)\n",
      "(83821, 'Brandt', 'Comp. Sci.', 92000.0, 36)\n",
      "(98345, 'Kim', 'Elec. Eng.', 80000.0, 53)\n"
     ]
    }
   ],
   "source": [
    "list=[34,35,42,38,45,55,48,60,50,42,35,38,36,53]\n",
    "cursor.execute(\"select id from instructor\")\n",
    "records=cursor.fetchall()\n",
    "id=[]\n",
    "for x in records:\n",
    "    id.append(x[0])\n",
    "\n",
    "print(id)\n",
    "i=0\n",
    "for x,i in zip(id,list):\n",
    "    query=\"update instructor set age=%s where ID=%s\"\n",
    "    cursor.execute(query,(i,x))\n",
    "\n",
    "\n",
    "cursor.execute(\"select * from instructor\")\n",
    "records=cursor.fetchall()\n",
    "for x in records:\n",
    "    print(x)"
   ]
  },
  {
   "cell_type": "markdown",
   "metadata": {},
   "source": [
    "5.Create a function that helps distinguish whether an instructor is eligible for sabbatical or not.\n",
    "An instructor can avail sabbatical only if his/her age is greater than 40.\n",
    "So, write a program that takes as input an integer (representing age) and\n",
    "returns affirmatively if the integer is greater than 40."
   ]
  },
  {
   "cell_type": "code",
   "execution_count": 17,
   "metadata": {},
   "outputs": [],
   "source": [
    "cursor.execute(\"set global log_bin_trust_function_creators = 1\")\n",
    "#cursor.execute(\"create function isSabbatical (age int(10)) returns int begin declare result TINYINT; set result = age > 40; return result; end\")"
   ]
  },
  {
   "cell_type": "markdown",
   "metadata": {},
   "source": [
    "6) Commit your work on github"
   ]
  },
  {
   "cell_type": "code",
   "execution_count": 19,
   "metadata": {},
   "outputs": [
    {
     "data": {
      "text/plain": [
       "\"import os\\nfrom git import Repo\\n\\n# Initialize a new Git repository or open an existing one\\nrepo_path = os.getcwd()\\nrepo = Repo.init(repo_path)\\n\\n# Add the database.py file to the repository\\nrepo.index.add(['Lab_8.ipynb'])\\n\\n# Commit the changes\\nrepo.index.commit('Lab_8.ipynb')\\n\\n# Push the changes to GitHub\\norigin = repo.remote(name='origin')\\norigin.push()\""
      ]
     },
     "execution_count": 19,
     "metadata": {},
     "output_type": "execute_result"
    }
   ],
   "source": [
    "\"\"\"import os\n",
    "from git import Repo\n",
    "\n",
    "# Initialize a new Git repository or open an existing one\n",
    "repo_path = os.getcwd()\n",
    "repo = Repo.init(repo_path)\n",
    "\n",
    "# Add the database.py file to the repository\n",
    "repo.index.add(['Lab_8.ipynb'])\n",
    "\n",
    "# Commit the changes\n",
    "repo.index.commit('Lab_8.ipynb')\n",
    "\n",
    "# Push the changes to GitHub\n",
    "origin = repo.remote(name='origin')\n",
    "origin.push()\"\"\""
   ]
  },
  {
   "cell_type": "markdown",
   "metadata": {},
   "source": [
    "7) Find all instructors who can avail sabbatical from the database."
   ]
  },
  {
   "cell_type": "code",
   "execution_count": 20,
   "metadata": {},
   "outputs": [
    {
     "name": "stdout",
     "output_type": "stream",
     "text": [
      "Instructors who are eligible  for sabbatical\n",
      "('Tom',)\n",
      "('Mozart',)\n",
      "('Einstein',)\n",
      "('El Said',)\n",
      "('Gold',)\n",
      "('Katz',)\n",
      "('Califieri',)\n",
      "('Kim',)\n"
     ]
    }
   ],
   "source": [
    "cursor.execute(\"select name from instructor where isSabbatical(age ) = 1\")\n",
    "myresult = cursor.fetchall()\n",
    "print(\"Instructors who are eligible  for sabbatical\")\n",
    "for x in myresult:\n",
    "    print(x)"
   ]
  },
  {
   "cell_type": "markdown",
   "metadata": {},
   "source": [
    "8) Add columns of monthly salary, exemptions, taxes, gross_salary etc."
   ]
  },
  {
   "cell_type": "code",
   "execution_count": 21,
   "metadata": {},
   "outputs": [],
   "source": [
    "cursor.execute(\"ALTER TABLE instructor \"\n",
    "\"RENAME COLUMN salary to monthly_salary,\"\n",
    "\"ADD COLUMN exemptions double,\"\n",
    "\"ADD COLUMN gross_salary double\")"
   ]
  },
  {
   "cell_type": "markdown",
   "metadata": {},
   "source": [
    "9) Commit your work on github"
   ]
  },
  {
   "cell_type": "code",
   "execution_count": null,
   "metadata": {},
   "outputs": [],
   "source": [
    "\"\"\"import os\n",
    "from git import Repo\n",
    "\n",
    "# Initialize a new Git repository or open an existing one\n",
    "repo_path = os.getcwd()\n",
    "repo = Repo.init(repo_path)\n",
    "\n",
    "# Add the database.py file to the repository\n",
    "repo.index.add(['Lab_8.ipynb'])\n",
    "\n",
    "# Commit the changes\n",
    "repo.index.commit('Comlete all Lab 8 queries')\n",
    "\n",
    "# Push the changes to GitHub\n",
    "origin = repo.remote(name='origin')\n",
    "origin.push()\"\"\""
   ]
  }
 ],
 "metadata": {
  "kernelspec": {
   "display_name": "Python 3 (ipykernel)",
   "language": "python",
   "name": "python3"
  },
  "language_info": {
   "codemirror_mode": {
    "name": "ipython",
    "version": 3
   },
   "file_extension": ".py",
   "mimetype": "text/x-python",
   "name": "python",
   "nbconvert_exporter": "python",
   "pygments_lexer": "ipython3",
   "version": "3.9.12"
  }
 },
 "nbformat": 4,
 "nbformat_minor": 2
}
