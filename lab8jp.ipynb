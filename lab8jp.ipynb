{
 "cells": [
  {
   "cell_type": "code",
   "execution_count": 1,
   "metadata": {},
   "outputs": [],
   "source": [
    "import mysql.connector"
   ]
  },
  {
   "cell_type": "code",
   "execution_count": 2,
   "metadata": {},
   "outputs": [
    {
     "name": "stdout",
     "output_type": "stream",
     "text": [
      "('dept_total_salary',)\n",
      "('faculty',)\n",
      "('form',)\n",
      "('instructor',)\n",
      "('teaches',)\n",
      "('teaches2',)\n"
     ]
    }
   ],
   "source": [
    "conn = mysql.connector.connect(host='localhost',\n",
    "                                       database='dbmslab',\n",
    "                                       user='root',\n",
    "                                       password='Geeky@Zain98')\n",
    "cursor=conn.cursor(buffered=True)\n",
    "cursor.execute('SHOW tables')\n",
    "for x in cursor:\n",
    "    print(x)"
   ]
  },
  {
   "cell_type": "code",
   "execution_count": 3,
   "metadata": {},
   "outputs": [
    {
     "name": "stdout",
     "output_type": "stream",
     "text": [
      "('ID', b'int', 'NO', 'PRI', None, '')\n",
      "('name', b'varchar(100)', 'NO', '', None, '')\n",
      "('dept_name', b'varchar(100)', 'NO', '', None, '')\n",
      "('salary', b'double', 'YES', '', None, '')\n",
      "('age', b'int', 'YES', '', None, '')\n",
      "('ages', b'int', 'YES', '', None, '')\n"
     ]
    }
   ],
   "source": [
    "cursor.execute(\"describe instructor\")\n",
    "records=cursor.fetchall()\n",
    "for x in records:\n",
    "    print(x)"
   ]
  },
  {
   "cell_type": "code",
   "execution_count": 4,
   "metadata": {},
   "outputs": [],
   "source": [
    "#cursor.execute(\"SET GLOBAL log_bin_trust_function_creators = 1;\")\n",
    "#cursor.execute(\"CREATE FUNCTION QuarterSal(jan int,feb int,mar int) RETURNS int(10) BEGIN DECLARE result int(10); set result=jan+feb+mar; RETURN result; END; \")"
   ]
  },
  {
   "cell_type": "code",
   "execution_count": 5,
   "metadata": {},
   "outputs": [
    {
     "name": "stdout",
     "output_type": "stream",
     "text": [
      "enter the salary for respected months\n",
      "enter for january12000\n",
      "enter for february25000\n",
      "enter for March15260\n",
      "The total salary for Quarter 1 (52260,)\n"
     ]
    }
   ],
   "source": [
    "print(\"enter the salary for respected months\")\n",
    "jan=float(input('enter for january'))\n",
    "feb=float(input('enter for february'))\n",
    "mar=float(input('enter for March'))\n",
    "sql = \"Set @x=QuarterSal(%s, %s, %s)\"\n",
    "val = (jan, feb, mar)\n",
    "cursor.execute(sql, val)\n",
    "cursor.execute(\"select @x\")\n",
    "records=cursor.fetchall()\n",
    "for x in records:\n",
    "    print('The total salary for Quarter 1',x)\n"
   ]
  },
  {
   "cell_type": "code",
   "execution_count": 6,
   "metadata": {},
   "outputs": [],
   "source": [
    "#cursor.execute(\"ALTER table instructor Add age int(10)\")"
   ]
  },
  {
   "cell_type": "code",
   "execution_count": 7,
   "metadata": {},
   "outputs": [
    {
     "name": "stdout",
     "output_type": "stream",
     "text": [
      "(10101, 'Srinivasan', 'Comp. Sci.', 65000.0, 34, None)\n",
      "(10211, 'Smith', 'Biology', 66000.0, 35, None)\n",
      "(10212, 'Tom', 'Biology', None, 42, None)\n",
      "(12121, 'Wu', 'Finance', 90000.0, 38, None)\n",
      "(15151, 'Mozart', 'Music', 40000.0, 45, None)\n",
      "(22222, 'Einstein', 'Physics', 95000.0, 55, None)\n",
      "(32343, 'El Said', 'History', 60000.0, 48, None)\n",
      "(33456, 'Gold', 'Physics', 87000.0, 60, None)\n",
      "(45565, 'Katz', 'Comp. Sci.', 75000.0, 50, None)\n",
      "(58583, 'Califieri', 'History', 62000.0, 42, None)\n",
      "(76543, 'Singh', 'Finance', 80000.0, 35, None)\n",
      "(76766, 'Crick', 'Biology', 72000.0, 38, None)\n",
      "(83821, 'Brandt', 'Comp. Sci.', 92000.0, 36, None)\n",
      "(98345, 'Kim', 'Elec. Eng.', 80000.0, 53, None)\n"
     ]
    }
   ],
   "source": [
    "cursor.execute(\" SELECT * FROM instructor;\")\n",
    "records=cursor.fetchall()\n",
    "for x in records:\n",
    "    print(x)"
   ]
  },
  {
   "cell_type": "code",
   "execution_count": 45,
   "metadata": {},
   "outputs": [
    {
     "name": "stdout",
     "output_type": "stream",
     "text": [
      "[10101, 10211, 10212, 12121, 15151, 22222, 32343, 33456, 45565, 58583, 76543, 76766, 83821, 98345]\n",
      "(10101, 'Srinivasan', 'Comp. Sci.', 65000.0, 34)\n",
      "(10211, 'Smith', 'Biology', 66000.0, 35)\n",
      "(10212, 'Tom', 'Biology', None, 42)\n",
      "(12121, 'Wu', 'Finance', 90000.0, 38)\n",
      "(15151, 'Mozart', 'Music', 40000.0, 45)\n",
      "(22222, 'Einstein', 'Physics', 95000.0, 55)\n",
      "(32343, 'El Said', 'History', 60000.0, 48)\n",
      "(33456, 'Gold', 'Physics', 87000.0, 60)\n",
      "(45565, 'Katz', 'Comp. Sci.', 75000.0, 50)\n",
      "(58583, 'Califieri', 'History', 62000.0, 42)\n",
      "(76543, 'Singh', 'Finance', 80000.0, 35)\n",
      "(76766, 'Crick', 'Biology', 72000.0, 38)\n",
      "(83821, 'Brandt', 'Comp. Sci.', 92000.0, 36)\n",
      "(98345, 'Kim', 'Elec. Eng.', 80000.0, 53)\n"
     ]
    }
   ],
   "source": [
    "list=[34,35,42,38,45,55,48,60,50,42,35,38,36,53]\n",
    "cursor.execute(\"select id from instructor\")\n",
    "records=cursor.fetchall()\n",
    "id=[]\n",
    "for x in records:\n",
    "    id.append(x[0])\n",
    "\n",
    "print(id)\n",
    "i=0\n",
    "for x,i in zip(id,list):\n",
    "    query=\"update instructor set age=%s where ID=%s\"\n",
    "    cursor.execute(query,(i,x))\n",
    "\n",
    "\n",
    "cursor.execute(\"select * from instructor\")\n",
    "records=cursor.fetchall()\n",
    "for x in records:\n",
    "    print(x)"
   ]
  },
  {
   "cell_type": "code",
   "execution_count": null,
   "metadata": {},
   "outputs": [],
   "source": []
  }
 ],
 "metadata": {
  "kernelspec": {
   "display_name": "Python 3 (ipykernel)",
   "language": "python",
   "name": "python3"
  },
  "language_info": {
   "codemirror_mode": {
    "name": "ipython",
    "version": 3
   },
   "file_extension": ".py",
   "mimetype": "text/x-python",
   "name": "python",
   "nbconvert_exporter": "python",
   "pygments_lexer": "ipython3",
   "version": "3.9.12"
  }
 },
 "nbformat": 4,
 "nbformat_minor": 2
}
